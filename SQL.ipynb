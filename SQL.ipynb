{
  "nbformat": 4,
  "nbformat_minor": 0,
  "metadata": {
    "colab": {
      "name": "SQL.ipynb",
      "provenance": [],
      "collapsed_sections": [
        "7lx9i291n0iJ"
      ]
    },
    "kernelspec": {
      "name": "python3",
      "display_name": "Python 3"
    },
    "language_info": {
      "name": "python"
    }
  },
  "cells": [
    {
      "cell_type": "code",
      "source": [
        "data_path = '/content/drive/MyDrive/Colab Notebooks/Practice_data/'"
      ],
      "metadata": {
        "id": "-tJoUuaW1l2s"
      },
      "execution_count": 1,
      "outputs": []
    },
    {
      "cell_type": "markdown",
      "source": [
        "#sqlite"
      ],
      "metadata": {
        "id": "CieS-4RWngMZ"
      }
    },
    {
      "cell_type": "code",
      "source": [
        "import sqlite3"
      ],
      "metadata": {
        "id": "NMyYAJjvvifw"
      },
      "execution_count": 2,
      "outputs": []
    },
    {
      "cell_type": "code",
      "source": [
        "conn = sqlite3.connect(data_path + 'school.db')\n",
        "cursor = conn.cursor() #建立cursor物件\n",
        "#建立一個資料表\n",
        "sqlstr = '''CREATE TABLE IF NOT EXISTS scores \\\n",
        "  (\"id\"   INTEGER PRIMARY KEY NOT NULL,\n",
        "  \"name\"   TEXT NOT NULL,\n",
        "  \"chinese\"  INTEGER NOT NULL,\n",
        "  \"english\"  INTEGER NOT NULL,\n",
        "  \"math\"    INTEGER NOT NULL\n",
        "  )'''\n",
        "cursor.execute(sqlstr)"
      ],
      "metadata": {
        "id": "AhTaZv1iooXK"
      },
      "execution_count": null,
      "outputs": []
    },
    {
      "cell_type": "code",
      "source": [
        "#新增記錄\n",
        "cursor.execute('insert into scores values(1, \"葉大雄\", 65, 62, 40)')\n",
        "cursor.execute('insert into scores values(2, \"沈靜香\", 85, 98, 87)')\n",
        "conn.commit() #更新\n",
        "conn.close() #關閉資料庫連線"
      ],
      "metadata": {
        "id": "OoK-nt1a0LKw"
      },
      "execution_count": null,
      "outputs": []
    },
    {
      "cell_type": "code",
      "source": [
        "conn = sqlite3.connect(data_path + 'school.db')\n",
        "datas=[[3, \"Karen\", 98, 99, 100],\n",
        "    [4, 'John', 85, 86, 87]]\n",
        "for data in datas:\n",
        "  conn.execute(\"insert into scores (id, name, chinese, english, math) values \\\n",
        "    ({}, '{}', {}, {}, {})\".format(data[0], data[1], data[2], data[3], data[4]))\n",
        "conn.commit() #更新\n",
        "conn.close() #關閉資料庫連線"
      ],
      "metadata": {
        "id": "ZRw5YH8D8ZIB"
      },
      "execution_count": null,
      "outputs": []
    },
    {
      "cell_type": "code",
      "source": [
        "#更新資料\n",
        "conn = sqlite3.connect(data_path + 'school.db')\n",
        "conn.execute(\"UPDATE scores SET name='{}' WHERE id={}\".format('林胖虎', 1))\n",
        "conn.commit() #更新\n",
        "conn.close() #關閉資料庫連線"
      ],
      "metadata": {
        "id": "_DSi0yvLAJnh"
      },
      "execution_count": null,
      "outputs": []
    },
    {
      "cell_type": "code",
      "source": [
        "conn = sqlite3.connect(data_path + 'school.db')\n",
        "conn.execute(\"UPDATE scores SET english={} WHERE id={}\".format(90, 3))\n",
        "conn.commit() #更新\n",
        "conn.close() #關閉資料庫連線"
      ],
      "metadata": {
        "id": "57lvQH2iBX-Q"
      },
      "execution_count": null,
      "outputs": []
    },
    {
      "cell_type": "code",
      "source": [
        "#刪除資料\n",
        "conn = sqlite3.connect(data_path + 'school.db')\n",
        "conn.execute(\"DELETE FROM scores WHERE chinese={}\".format(65))\n",
        "conn.commit() #更新\n",
        "conn.close() #關閉資料庫連線"
      ],
      "metadata": {
        "id": "nJddZRe5C9k_"
      },
      "execution_count": null,
      "outputs": []
    },
    {
      "cell_type": "code",
      "source": [
        "#刪除資料\n",
        "conn = sqlite3.connect(data_path + 'school.db')\n",
        "conn.execute(\"DELETE FROM scores WHERE name='{}'\".format('沈靜香'))\n",
        "conn.commit() #更新\n",
        "conn.close() #關閉資料庫連線"
      ],
      "metadata": {
        "id": "aN41PLK_Dl6-"
      },
      "execution_count": null,
      "outputs": []
    },
    {
      "cell_type": "code",
      "source": [
        "#查詢資料\n",
        "conn = sqlite3.connect(data_path + 'school.db')\n",
        "cursor = conn.execute('select * from scores')\n",
        "rows = cursor.fetchall()\n",
        "print(rows) #顯示原始資料\n",
        "#逐筆顯示資料\n",
        "for row in rows:\n",
        "  print(row[0], row[1])\n",
        "conn.close() #關閉資料庫連線"
      ],
      "metadata": {
        "colab": {
          "base_uri": "https://localhost:8080/"
        },
        "id": "NOw_cf4uGGAv",
        "outputId": "38ba623d-661f-4efb-fbc6-44944f64fefd"
      },
      "execution_count": null,
      "outputs": [
        {
          "output_type": "stream",
          "name": "stdout",
          "text": [
            "[(3, 'Karen', 98, 90, 100), (4, 'John', 85, 86, 87)]\n",
            "3 Karen\n",
            "4 John\n"
          ]
        }
      ]
    },
    {
      "cell_type": "code",
      "source": [
        "#查詢資料\n",
        "conn = sqlite3.connect(data_path + 'school.db')\n",
        "cursor = conn.execute('select * from scores')\n",
        "row = cursor.fetchone()\n",
        "print(row) #顯示原始資料"
      ],
      "metadata": {
        "colab": {
          "base_uri": "https://localhost:8080/"
        },
        "id": "KYz2Aa4kJUrl",
        "outputId": "8d05d9c1-af0f-4b56-a5d1-55ee08a545af"
      },
      "execution_count": null,
      "outputs": [
        {
          "output_type": "stream",
          "name": "stdout",
          "text": [
            "(3, 'Karen', 98, 90, 100)\n"
          ]
        }
      ]
    },
    {
      "cell_type": "markdown",
      "source": [
        "#mysql"
      ],
      "metadata": {
        "id": "7lx9i291n0iJ"
      }
    },
    {
      "cell_type": "code",
      "source": [
        "!pip install pymysql"
      ],
      "metadata": {
        "colab": {
          "base_uri": "https://localhost:8080/"
        },
        "id": "U3NT_KPbKCLE",
        "outputId": "f22f7a26-e397-412c-9f4e-9602cd0cc254"
      },
      "execution_count": null,
      "outputs": [
        {
          "output_type": "stream",
          "name": "stdout",
          "text": [
            "Collecting pymysql\n",
            "  Downloading PyMySQL-1.0.2-py3-none-any.whl (43 kB)\n",
            "\u001b[?25l\r\u001b[K     |███████▌                        | 10 kB 23.3 MB/s eta 0:00:01\r\u001b[K     |███████████████                 | 20 kB 28.0 MB/s eta 0:00:01\r\u001b[K     |██████████████████████▍         | 30 kB 33.3 MB/s eta 0:00:01\r\u001b[K     |██████████████████████████████  | 40 kB 27.3 MB/s eta 0:00:01\r\u001b[K     |████████████████████████████████| 43 kB 2.7 MB/s \n",
            "\u001b[?25hInstalling collected packages: pymysql\n",
            "Successfully installed pymysql-1.0.2\n"
          ]
        }
      ]
    },
    {
      "cell_type": "code",
      "source": [
        "import pymysql"
      ],
      "metadata": {
        "id": "ialUkrUNKThD"
      },
      "execution_count": null,
      "outputs": []
    },
    {
      "cell_type": "code",
      "source": [
        "#建立資料表\n",
        "conn = pymysql.connect(host='localhost', port=3306, user='root', passwd='1234',\n",
        "  charset='utf8', db='pythondb01') #連結資料庫\n",
        "with conn.cursor() as cursor:\n",
        "  sq1 = '''\n",
        "    CREATE TABLE IF NOT EXISTS Scores(\n",
        "    ID int NOT NULL AUTO_INCREMENT PRIMARY KEY,\n",
        "    Name varchar(20),\n",
        "    Chinese int(3),\n",
        "    English int(3),\n",
        "    Math int(3)\n",
        "    );'''\n",
        "  cursor.execute(sq1)\n",
        "  conn.commit() #更新\n",
        "conn.close() #關閉資料庫連線"
      ],
      "metadata": {
        "id": "rMqVRhIpNw9j"
      },
      "execution_count": null,
      "outputs": []
    },
    {
      "cell_type": "code",
      "source": [
        "#新增資料\n",
        "conn = pymysql.connect(host='localhost', port=3306, user='root', passwd='1234',\n",
        "  charset='utf8', db='pythondb01') #連結資料庫\n",
        "with conn.cursor() as cursor:\n",
        "  sq1 = '''\n",
        "  insert into scores (Name, Chinese, English, Math) values\n",
        "  ('葉大雄', 65, 62, 40),\n",
        "  ('沈靜香', 85, 98, 87),\n",
        "  '''\n",
        "  cursor.execute(sq1)\n",
        "  conn.commit() #更新\n",
        "conn.close() #關閉資料庫連線"
      ],
      "metadata": {
        "id": "GAyBmtMGRS9J"
      },
      "execution_count": null,
      "outputs": []
    },
    {
      "cell_type": "code",
      "source": [
        "#查詢所有資料\n",
        "conn = pymysql.connect(host='localhost', port=3306, user='root', passwd='1234',\n",
        "  charset='utf8', db='pythondb01') #連結資料庫\n",
        "with conn.cursor() as cursor:\n",
        "  sql = \"select * from scores\"\n",
        "  cursor.execute(sq1)\n",
        "  datas = cursor.fetchall() #所有資料\n",
        "  print(datas)\n",
        "conn.close() #關閉資料庫連線"
      ],
      "metadata": {
        "id": "imsd_pYpS0pB"
      },
      "execution_count": null,
      "outputs": []
    },
    {
      "cell_type": "code",
      "source": [
        "#查詢特定資料\n",
        "conn = pymysql.connect(host='localhost', port=3306, user='root', passwd='1234',\n",
        "  charset='utf8', db='pythondb01') #連結資料庫\n",
        "with conn.cursor() as cursor:\n",
        "  sql = \"update scores set Chinese = 98 where ID = 3\"\n",
        "  cursor.execute(sq1)\n",
        "  conn.commit()\n",
        "  sql = \"select from scores where ID = 3\"\n",
        "  cursor.execute(sq1)\n",
        "  datas = cursor.fetchall() #所有資料\n",
        "  print(datas)\n",
        "conn.close() #關閉資料庫連線"
      ],
      "metadata": {
        "id": "z3cThxsCUhLP"
      },
      "execution_count": null,
      "outputs": []
    },
    {
      "cell_type": "code",
      "source": [
        "#刪除資料\n",
        "conn = pymysql.connect(host='localhost', port=3306, user='root', passwd='1234',\n",
        "  charset='utf8', db='pythondb01') #連結資料庫\n",
        "with conn.cursor() as cursor:\n",
        "  sql = \"delete from scores where ID = 3\"\n",
        "  cursor.execute(sq1)\n",
        "  conn.commit()\n",
        "  sql = \"select from scores where ID = 3\"\n",
        "  cursor.execute(sq1)\n",
        "  datas = cursor.fetchall() #所有資料\n",
        "  print(datas)\n",
        "conn.close() #關閉資料庫連線"
      ],
      "metadata": {
        "id": "BDG--_G_VGDf"
      },
      "execution_count": null,
      "outputs": []
    }
  ]
}